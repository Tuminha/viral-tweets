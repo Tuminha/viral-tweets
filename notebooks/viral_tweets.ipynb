{
 "cells": [
  {
   "cell_type": "markdown",
   "metadata": {},
   "source": [
    "# Off-Platform Project: Viral Tweets\n",
    "\n",
    "In this project, we are going to use the K-Nearest Neighbor algorithm to predict whether a tweet will go viral. Before jumping into using the classifier, let's first consider the problem we're trying to solve. Which features of a tweet are most closely linked to its popularity? Maybe the number of hashtags or the number of links in the tweet strongly influences its popularity. Maybe its virality is dependent on how many followers the person has. Maybe it's something more subtle like the specific language used in the tweets.\n",
    "\n",
    "Let's explore these options by looking at the data we have available to us. We've imported the dataset and printed the following information:\n",
    "\n",
    "* The total number of tweets in the dataset.\n",
    "* The columns, or features, of the dataset.\n",
    "* The text of the first tweet in the dataset.\n",
    "\n",
    "Some of these features are dictionaries. For example, the feature `\"user\"` is a dictionary. We might want to use some of the information found in these sub-dictionaries. Print `all_tweets.loc[0][\"user\"]` to see what the `\"user\"` feature looks like.\n",
    "\n",
    "After printing that, try printing just the `\"location\"` found in that `\"user\"` dictionary. For example, `all_tweets.loc[0][\"user\"][\"screen_name\"]` would give you only the screen name associated with the first tweet."
   ]
  },
  {
   "cell_type": "code",
   "execution_count": 4,
   "metadata": {},
   "outputs": [
    {
     "name": "stdout",
     "output_type": "stream",
     "text": [
      "11099 \n",
      "\n",
      "Index(['created_at', 'id', 'id_str', 'text', 'truncated', 'entities',\n",
      "       'metadata', 'source', 'in_reply_to_status_id',\n",
      "       'in_reply_to_status_id_str', 'in_reply_to_user_id',\n",
      "       'in_reply_to_user_id_str', 'in_reply_to_screen_name', 'user', 'geo',\n",
      "       'coordinates', 'place', 'contributors', 'retweeted_status',\n",
      "       'is_quote_status', 'retweet_count', 'favorite_count', 'favorited',\n",
      "       'retweeted', 'lang', 'possibly_sensitive', 'quoted_status_id',\n",
      "       'quoted_status_id_str', 'extended_entities', 'quoted_status',\n",
      "       'withheld_in_countries'],\n",
      "      dtype='object') \n",
      "\n",
      "RT @KWWLStormTrack7: We are more than a month into summer but the days are getting shorter. The sunrise is about 25 minutes later on July 3… \n",
      "\n",
      "{'id': 145388018, 'id_str': '145388018', 'name': 'Derek Wolkenhauer', 'screen_name': 'derekw221', 'location': 'Waterloo, Iowa', 'description': '', 'url': None, 'entities': {'description': {'urls': []}}, 'protected': False, 'followers_count': 215, 'friends_count': 335, 'listed_count': 2, 'created_at': 'Tue May 18 21:30:10 +0000 2010', 'favourites_count': 3419, 'utc_offset': None, 'time_zone': None, 'geo_enabled': True, 'verified': False, 'statuses_count': 4475, 'lang': 'en', 'contributors_enabled': False, 'is_translator': False, 'is_translation_enabled': False, 'profile_background_color': '022330', 'profile_background_image_url': 'http://abs.twimg.com/images/themes/theme15/bg.png', 'profile_background_image_url_https': 'https://abs.twimg.com/images/themes/theme15/bg.png', 'profile_background_tile': False, 'profile_image_url': 'http://pbs.twimg.com/profile_images/995790590276243456/cgxRVviN_normal.jpg', 'profile_image_url_https': 'https://pbs.twimg.com/profile_images/995790590276243456/cgxRVviN_normal.jpg', 'profile_banner_url': 'https://pbs.twimg.com/profile_banners/145388018/1494937921', 'profile_link_color': '0084B4', 'profile_sidebar_border_color': 'A8C7F7', 'profile_sidebar_fill_color': 'C0DFEC', 'profile_text_color': '333333', 'profile_use_background_image': True, 'has_extended_profile': True, 'default_profile': False, 'default_profile_image': False, 'following': False, 'follow_request_sent': False, 'notifications': False, 'translator_type': 'none'} \n",
      "\n",
      "Waterloo, Iowa \n",
      "\n"
     ]
    }
   ],
   "source": [
    "import pandas as pd\n",
    "\n",
    "all_tweets = pd.read_json(\"../data/random_tweets.json\", lines=True)\n",
    "\n",
    "print(len(all_tweets), \"\\n\")\n",
    "print(all_tweets.columns, \"\\n\")\n",
    "print(all_tweets.loc[0]['text'], \"\\n\")\n",
    "\n",
    "#Print the user here and the user's location here.\n",
    "print(all_tweets.loc[0]['user'], \"\\n\")\n",
    "print(all_tweets.loc[0]['user']['location'], \"\\n\")\n",
    "\n",
    "\n"
   ]
  },
  {
   "cell_type": "markdown",
   "metadata": {},
   "source": [
    "# Defining Viral Tweets\n",
    "\n",
    "A K-Nearest Neighbor classifier is a supervised machine learning algorithm, and as a result, we need to have a dataset with tagged labels. For this specific example, we need a dataset where every tweet is marked as viral or not viral. Unfortunately, this isn't a feature of our dataset &mdash; we'll need to make it ourselves.\n",
    "\n",
    "So how do we define a viral tweet? A good place to start is to look at the number of retweets the tweet has. This can be found using the feature `\"retweet_count\"`. Let's say we wanted to create a column called `is_viral` that is a `1` if the tweet had more than `5` retweets and `0` otherwise. We could do that like this:\n",
    "\n",
    "```py\n",
    "all_tweets['is_viral'] = np.where(all_tweets['retweet_count'] > 5, 1, 0)\n",
    "```\n",
    "\n",
    "Instead of using `5` as the benchmark for a viral tweet, let's use the median number of retweets. You can find that by calling the `median()` function on `all_tweets[\"retweet_count\"]`. Print the median number of retweets to understand what this threshold is.\n",
    "\n",
    "Print the number of viral tweets and non-viral tweets. You can do this using `all_tweets['is_viral'].value_counts()`.\n",
    "\n",
    "After finishing this project, consider coming back and playing with this threshold number. How do you think your model would work if it was trying to find incredibly viral tweets? For example, how would it work if it were looking for tweets with 1000 or more retweets?"
   ]
  },
  {
   "cell_type": "code",
   "execution_count": null,
   "metadata": {},
   "outputs": [
    {
     "name": "stdout",
     "output_type": "stream",
     "text": [
      "The median number of retweets is: 13.0\n",
      "\n",
      "The number of viral tweets is: 5537\n",
      "\n",
      "The number of extreme viral tweets is: 555\n"
     ]
    }
   ],
   "source": [
    "import numpy as np\n",
    "\n",
    "# What is a viral tweet? Let's divide into two type: the viral_tweet and the extreme_viral_tweet, \n",
    "# where the viral_tweet is the one that as more RT than the median, and the extreme_viral_tweet are the ones in the percentile 95-100.\n",
    "\n",
    "# First, let's calculate the median of the retweet_count\n",
    "median_retweets = all_tweets['retweet_count'].median()\n",
    "\n",
    "# Now, we can create the viral_tweet column\n",
    "all_tweets['viral_tweet'] = np.where(all_tweets['retweet_count'] > median_retweets, 1, 0)\n",
    "total_viral_tweets = len(all_tweets[all_tweets['viral_tweet'] == 1])\n",
    "# Now, let's create the extreme_viral_tweet column\n",
    "all_tweets['extreme_viral_tweet'] = np.where(all_tweets['retweet_count'] > all_tweets['retweet_count'].quantile(0.95), 1, 0)\n",
    "total_extreme_viral_tweets = len(all_tweets[all_tweets['extreme_viral_tweet'] == 1])\n",
    "\n",
    "# Now, let's print the number of viral and extreme viral tweets\n",
    "print(f\"The median number of retweets is: {median_retweets}\\n\")\n",
    "print(f\"The number of viral tweets is: {total_viral_tweets}\\n\")\n",
    "print(f\"The number of extreme viral tweets is: {total_extreme_viral_tweets}\")\n",
    "\n",
    "\n",
    "\n",
    "\n",
    "\n",
    "\n"
   ]
  },
  {
   "cell_type": "markdown",
   "metadata": {},
   "source": [
    "# Making Features\n",
    "\n",
    "Now that we've created a label for every tweet in our dataset, we can begin thinking about which features might determine whether a tweet is viral. We can create new columns in our dataset to represent these features. For example, let's say we think the length of a tweet might be a valuable feature. The following line creates a new column containing the length of the tweet.\n",
    "\n",
    "```py\n",
    "all_tweets['tweet_length'] = all_tweets.apply(lambda tweet: len(tweet['text']), axis=1)\n",
    "```\n",
    "\n",
    "Setting `axis = 1` creates a new column rather than a new row.\n",
    "\n",
    "Create a new column called `followers_count` that contains the number of followers of each user. You can find this information in `tweet['user']['followers_count']`. Do the same for `friends_count`.\n",
    "\n",
    "For the rest of this project, we will be using these three features, but we encourage you to create your own. Here are some potential ideas for more features.\n",
    "\n",
    "* The number of hashtags in the tweet. You can find this by looking at the `text` of the tweet and using the `.count()` function with `#` as a parameter.\n",
    "* The number of links in the tweet. Using a similar strategy to the one above, use `.count()` to count the number of times `http` appears in the tweet.\n",
    "* The number of words in the tweet. Call `.split()` on the `text` of a tweet. This will give you a list of the words in the tweet. Find the length of that list.\n",
    "* The average length of the words in the tweet."
   ]
  },
  {
   "cell_type": "code",
   "execution_count": 9,
   "metadata": {},
   "outputs": [
    {
     "name": "stdout",
     "output_type": "stream",
     "text": [
      "                 created_at                   id               id_str  \\\n",
      "0 2018-07-31 13:34:40+00:00  1024287229525598210  1024287229525598208   \n",
      "1 2018-07-31 13:34:40+00:00  1024287229512953856  1024287229512953856   \n",
      "2 2018-07-31 13:34:40+00:00  1024287229504569344  1024287229504569344   \n",
      "3 2018-07-31 13:34:40+00:00  1024287229496029190  1024287229496029184   \n",
      "4 2018-07-31 13:34:40+00:00  1024287229492031490  1024287229492031488   \n",
      "\n",
      "                                                text  truncated  \\\n",
      "0  RT @KWWLStormTrack7: We are more than a month ...      False   \n",
      "1  @hail_ee23 Thanks love its just the feeling of...      False   \n",
      "2  RT @TransMediaWatch: Pink News has more on the...      False   \n",
      "3  RT @realDonaldTrump: One of the reasons we nee...      False   \n",
      "4  RT @First5App: This hearing of His Word doesn’...      False   \n",
      "\n",
      "                                            entities  \\\n",
      "0  {'hashtags': [], 'symbols': [], 'user_mentions...   \n",
      "1  {'hashtags': [], 'symbols': [], 'user_mentions...   \n",
      "2  {'hashtags': [], 'symbols': [], 'user_mentions...   \n",
      "3  {'hashtags': [], 'symbols': [], 'user_mentions...   \n",
      "4  {'hashtags': [], 'symbols': [], 'user_mentions...   \n",
      "\n",
      "                                            metadata  \\\n",
      "0  {'iso_language_code': 'en', 'result_type': 're...   \n",
      "1  {'iso_language_code': 'en', 'result_type': 're...   \n",
      "2  {'iso_language_code': 'en', 'result_type': 're...   \n",
      "3  {'iso_language_code': 'en', 'result_type': 're...   \n",
      "4  {'iso_language_code': 'en', 'result_type': 're...   \n",
      "\n",
      "                                              source  in_reply_to_status_id  \\\n",
      "0  <a href=\"http://twitter.com/download/android\" ...                    NaN   \n",
      "1  <a href=\"http://twitter.com/download/iphone\" r...           1.024128e+18   \n",
      "2  <a href=\"http://twitter.com/download/iphone\" r...                    NaN   \n",
      "3  <a href=\"http://twitter.com/download/android\" ...                    NaN   \n",
      "4  <a href=\"http://twitter.com/download/iphone\" r...                    NaN   \n",
      "\n",
      "   in_reply_to_status_id_str  ...  quoted_status  withheld_in_countries  \\\n",
      "0                        NaN  ...            NaN                    NaN   \n",
      "1               1.024128e+18  ...            NaN                    NaN   \n",
      "2                        NaN  ...            NaN                    NaN   \n",
      "3                        NaN  ...            NaN                    NaN   \n",
      "4                        NaN  ...            NaN                    NaN   \n",
      "\n",
      "  viral_tweet extreme_viral_tweet tweet_length followers_count friends_count  \\\n",
      "0           0                   0          140             215           335   \n",
      "1           0                   0           77             199           203   \n",
      "2           0                   0          140             196           558   \n",
      "3           1                   0          140            3313          2272   \n",
      "4           0                   0          140             125           273   \n",
      "\n",
      "   num_hashtags num_links  num_words  \n",
      "0             0         0         26  \n",
      "1             0         0         15  \n",
      "2             0         0         22  \n",
      "3             0         0         24  \n",
      "4             0         0         24  \n",
      "\n",
      "[5 rows x 39 columns]\n"
     ]
    }
   ],
   "source": [
    "# Creaating a new column named tweet_length, which contains the length of the tweet\n",
    "# Lambda function works by taking the tweet['text'] and applying the len() function to it\n",
    "all_tweets['tweet_length'] = all_tweets.apply(lambda tweet: len(tweet['text']), axis=1)\n",
    "\n",
    "# Creating a new column named followers_count, which contains the number of followers of each user\n",
    "all_tweets['followers_count'] = all_tweets.apply(lambda tweet: tweet['user']['followers_count'], axis=1)\n",
    "\n",
    "# Creating a new column named friends_count, which contains the number of friends of each user\n",
    "all_tweets['friends_count'] = all_tweets.apply(lambda tweet: tweet['user']['friends_count'], axis=1)\n",
    "\n",
    "# Bonus: Creating a new column for number of hashtags, also another one for those tweets with links\n",
    "# And also for the number of words in the tweet\n",
    "all_tweets['num_hashtags'] = all_tweets.apply(lambda tweet: tweet['text'].count('#'), axis=1)\n",
    "all_tweets['num_links'] = all_tweets.apply(lambda tweet: tweet['text'].count('http'), axis=1)\n",
    "all_tweets['num_words'] = all_tweets.apply(lambda tweet: len(tweet['text'].split()), axis=1)\n",
    "\n",
    "# Check if columns were created correctly\n",
    "print(all_tweets.head())\n",
    "\n",
    "\n",
    "\n",
    "\n"
   ]
  },
  {
   "cell_type": "markdown",
   "metadata": {},
   "source": [
    "# Normalizing The Data\n",
    "\n",
    "We've now made the columns that we want to feed into our classifier. Let's get rid of all the data that is no longer relevant. Create a variable named `labels` and set it equal to the `'is_viral'` column of all_tweets.\n",
    "\n",
    "If we had a dataframe named `df` we could get a single column named `A` like this:\n",
    "\n",
    "```py\n",
    "one_column = df['A']\n",
    "```\n",
    "\n",
    "Create a variable named `data` and set it equal to all of the columns that you created in the last step. Those columns are `tweet_length`, `followers_count`, and `friends_count`.\n",
    "\n",
    "When selecting multiple columns, the names of the columns should be in a list. Check out the example below to see how to select column `A` *and* `B`:\n",
    "\n",
    "```py\n",
    "features = df[['A', 'B']]\n",
    "```\n",
    "\n",
    "Now create a new variable named `scaled_data`. `scaled_data` should be the result of the `scale` function with `data` as a parameter. Also include the parameter `axis = 0`. This scales the *columns* as opposed to the rows.\n",
    "\n",
    "The scale function will normalize the data so all of the features will vary within the same range.\n",
    "\n",
    "Print `scaled_data[0]` to get a sense of what our data looks like."
   ]
  },
  {
   "cell_type": "code",
   "execution_count": 11,
   "metadata": {},
   "outputs": [
    {
     "name": "stdout",
     "output_type": "stream",
     "text": [
      "[ 0.6164054  -0.02878298 -0.14483305 -0.32045057 -0.78415588  1.15105133]\n"
     ]
    }
   ],
   "source": [
    "from sklearn.preprocessing import scale\n",
    "\n",
    "label_1 = all_tweets['viral_tweet']\n",
    "label_2 = all_tweets[\"extreme_viral_tweet\"]\n",
    "\n",
    "# Lets create the new set of data with the features we just created\n",
    "data = all_tweets[['tweet_length', 'followers_count', 'friends_count', 'num_hashtags', 'num_links', 'num_words']]\n",
    "\n",
    "# Now, let's scale the data\n",
    "scaled_data = scale(data, axis=0)\n",
    "\n",
    "# Now, let's print the scaled data\n",
    "print(scaled_data[0])"
   ]
  },
  {
   "cell_type": "markdown",
   "metadata": {},
   "source": [
    "# Creating the Training Set and Test Set\n",
    "\n",
    "To evaluate the effectiveness of our classifier, we now split `scaled_data` and `labels` into a training set and test set using scikit-learn's `train_test_split` function. This function takes two required parameters: It takes the data, followed by the labels. Set the optional parameter `test_size` to be `0.2`. You can also set the `random_state` parameter so your code will randomly split the data in the same way as our solution code splits the data. We used `random_state = 1`. Remember, this function returns 4 items in this order:\n",
    "\n",
    "1. The training data\n",
    "2. The testing data\n",
    "3. The training labels\n",
    "4. The testing labels\n",
    "\n",
    "Store the results in variables named `train_data`, `test_data`, `train_labels`, and `test_labels`."
   ]
  },
  {
   "cell_type": "code",
   "execution_count": 12,
   "metadata": {},
   "outputs": [],
   "source": [
    "from sklearn.model_selection import train_test_split\n",
    "\n",
    "# As we have 2 labels, we need to split the data into 2 different sets\n",
    "train_data_extreme, test_data_extreme, train_labels_extreme, test_labels_extreme = train_test_split(scaled_data, label_1, test_size=0.2, random_state=1)\n",
    "train_data_viral, test_data_viral, train_labels_viral, test_labels_viral = train_test_split(scaled_data, label_2, test_size=0.2, random_state=1)\n",
    "\n",
    "\n"
   ]
  },
  {
   "cell_type": "markdown",
   "metadata": {},
   "source": [
    "# Using the Classifier\n",
    "\n",
    "We can finally use the K-Nearest Neighbor classifier. Let's test it using `k = 5`. Begin by creating a `KNeighborsClassifier` object named `classifier` with the parameter `n_neighbors` equal to `5`.\n",
    "\n",
    "Next, train `classifier` by calling the `.fit()` method with `train_data` and `train_labels` as parameters.\n",
    "\n",
    "Finally, let's test the model! Call `classifier`'s `.score()` method using `test_data` and `test_labels` as parameters. Print the results.\n"
   ]
  },
  {
   "cell_type": "code",
   "execution_count": 21,
   "metadata": {},
   "outputs": [
    {
     "name": "stdout",
     "output_type": "stream",
     "text": [
      "The accuracy of the viral classifier is: 0.9414414414414415\n",
      "The accuracy of the extreme viral classifier is: 0.7175675675675676\n",
      "\n",
      "The score for viral tweets is higher than the score for extreme viral tweets, it makes sense because is much easier to be viral than to be extreme viral\n"
     ]
    }
   ],
   "source": [
    "from sklearn.neighbors import KNeighborsClassifier\n",
    "\n",
    "classifier_viral = KNeighborsClassifier(n_neighbors=5)\n",
    "classifier_viral.fit(train_data_viral, train_labels_viral)\n",
    "\n",
    "classifier_extreme = KNeighborsClassifier(n_neighbors=5)\n",
    "classifier_extreme.fit(train_data_extreme, train_labels_extreme)\n",
    "\n",
    "score_viral = classifier_viral.score(test_data_viral, test_labels_viral)\n",
    "score_extreme = classifier_extreme.score(test_data_extreme, test_labels_extreme)\n",
    "\n",
    "# Now lets test the models\n",
    "print(f\"The accuracy of the viral classifier is: {score_viral}\")\n",
    "print(f\"The accuracy of the extreme viral classifier is: {score_extreme}\\n\")\n",
    "\n",
    "if score_viral > score_extreme:\n",
    "    print(\"The score for viral tweets is higher than the score for extreme viral tweets, it makes sense because is much easier to be viral than to be extreme viral\")\n",
    "else:\n",
    "    print(\"The score for extreme viral tweets is higher than the score for viral tweets, which if everything is ok, we have here the 'Golden Grial' algorithm to create viral tweets.\")\n"
   ]
  },
  {
   "cell_type": "markdown",
   "metadata": {},
   "source": [
    "# Choosing K\n",
    "\n",
    "We've tested our classifier with `k = 5`, but maybe there's a `k` that will work better. Let's test many different values for `k` and graph the results. \n",
    "\n",
    "First, create an empty list called `scores`. Next, create a for loop that has a variable `k` that begins at `1` and ends at `200`.\n",
    "\n",
    "Inside the for loop, create a `KNeighobrsClassifier` object named `classifier` with the parameter `n_neighbors` equal to `k`.\n",
    "\n",
    "Train `classifier` by calling the `.fit()` method with `train_data` and `train_labels` as parameters.\n",
    "\n",
    "Next, let's test the model! Call `classifier`'s `.score()` method using `test_data` and `test_labels` as parameters. `append` the result to `scores`.\n",
    "\n",
    "Finally, let's plot the results. Outside of the loop, use Matplotlib's `plot()` function. `plot()` takes two parameters &mdash; the data on the x-axis and the data on the y-axis. Data on the x-axis should be the values we used for `k`. In this case, `range(1,200)`.  Data on the y-axis should be `scores`. Make sure to call the `plt.show()` function after calling `plt.plot()`. This should take a couple of seconds to run!"
   ]
  },
  {
   "cell_type": "code",
   "execution_count": 23,
   "metadata": {},
   "outputs": [
    {
     "name": "stdout",
     "output_type": "stream",
     "text": [
      "The best k for viral tweets is: 6\n",
      "\n",
      "The best k for extreme viral tweets is: 19\n",
      "\n",
      "The accuracy of the extreme viral classifier with the best k that is 19 is: 0.7396396396396396\n"
     ]
    },
    {
     "data": {
      "image/png": "[encoded data removed]",
      "text/plain": [
       "<Figure size 640x480 with 1 Axes>"
      ]
     },
     "metadata": {},
     "output_type": "display_data"
    }
   ],
   "source": [
    "import matplotlib.pyplot as plt\n",
    "\n",
    "scores_viral = []\n",
    "scores_extreme = []\n",
    "\n",
    "for k in range(1, 200):\n",
    "    # For viral tweets\n",
    "    classifier_viral = KNeighborsClassifier(n_neighbors=k)\n",
    "    classifier_viral.fit(train_data_viral, train_labels_viral)\n",
    "    scores_viral.append(classifier_viral.score(test_data_viral, test_labels_viral))\n",
    "    # For extreme viral tweets\n",
    "    classifier_extreme = KNeighborsClassifier(n_neighbors=k)\n",
    "    classifier_extreme.fit(train_data_extreme, train_labels_extreme)\n",
    "    scores_extreme.append(classifier_extreme.score(test_data_extreme, test_labels_extreme))\n",
    "\n",
    "best_k_viral_tweets = scores_viral.index(max(scores_viral)) + 1\n",
    "best_k_extreme_viral_tweets = scores_extreme.index(max(scores_extreme)) + 1\n",
    "\n",
    "print(f\"The best k for viral tweets is: {best_k_viral_tweets}\\n\")\n",
    "print(f\"The best k for extreme viral tweets is: {best_k_extreme_viral_tweets}\\n\")\n",
    "\n",
    "print(f\"The accuracy of the extreme viral classifier with the best k that is {best_k_extreme_viral_tweets} is: {scores_extreme[best_k_extreme_viral_tweets - 1]}\")\n",
    "\n",
    "plt.plot(range(1, 200), scores_viral)\n",
    "plt.plot(range(1, 200), scores_extreme)\n",
    "plt.show()"
   ]
  },
  {
   "cell_type": "markdown",
   "metadata": {},
   "source": [
    "# Explore on your own\n",
    "\n",
    "Nice work! You can see the classifier gets better as `k` increases, but as `k` gets too high, underfitting starts to happen.\n",
    "\n",
    "By using the features `tweet_length`, `followers_count`, and `friends_count`, we were able to get up to around 63% accuracy. That is better than random, but still not exceptional. Can you find some different features that perform better? Share your graphs with us on Twitter and maybe it will go viral!"
   ]
  },
  {
   "cell_type": "markdown",
   "metadata": {},
   "source": [
    "# Analyzing the perfect tweet: What does the extreme viral tweet look like?\n",
    "\n",
    "We've found the `k` that gives us the highest accuracy for our classifier. Now, let's see what the perfect tweet looks like.\n",
    "\n",
    "First, let's find the tweet with the highest number of retweets that is within the 95th percentile.\n",
    "\n",
    "After, let's find some patterns that this tweets have in common.\n",
    "\n",
    "Then we could insert a tweet in our model and see if it will be classified as extreme viral.\n",
    "\n",
    "\n"
   ]
  },
  {
   "cell_type": "code",
   "execution_count": 30,
   "metadata": {},
   "outputs": [
    {
     "name": "stdout",
     "output_type": "stream",
     "text": [
      "The accuracy of the extreme viral classifier is: 0.7396396396396396\n",
      "\n",
      "The number of extreme viral tweets is: 555\n",
      "The number of extreme viral tweets is 555, which is more than 500, and that's a lot to unpack 😅\n",
      "\n",
      "The average number of words in the extreme viral tweets is: 20.396396396396398\n",
      "\n",
      "The average number of friends in the extreme viral tweets is: 627.3081081081081\n",
      "\n",
      "The average number of followers in the extreme viral tweets is: 729.5657657657657\n",
      "\n",
      "The number of tweets with links in the extreme viral tweets is: 198\n",
      "\n",
      "The number of tweets with hashtags in the extreme viral tweets is: 15\n",
      "\n",
      "The number of tweets with links in the extreme viral tweets is 198, which is less than 250, and is much less than the half of the total number of extreme viral tweets, which is 277.5, this means that the links maybe are hurting the performance of the tweets, because the number of tweets with links is lower than the half of the total number of extreme viral tweets\n",
      "\n",
      "The number of tweets with hashtags in the extreme viral tweets is 15, which is less than 50, and is much less than the half of the total number of extreme viral tweets, which is 277.5, this means that the hashtags maybe are hurting the performance of the tweets, because the number of tweets with hashtags is lower than the half of the total number of extreme viral tweets\n",
      "\n"
     ]
    }
   ],
   "source": [
    "# let`s bring here the classifier for extreme tweets and now using the best K we found before that was 19\n",
    "\n",
    "classifier_extreme = KNeighborsClassifier(n_neighbors=19)\n",
    "classifier_extreme.fit(train_data_extreme, train_labels_extreme)\n",
    "\n",
    "score_extreme = classifier_extreme.score(test_data_extreme, test_labels_extreme)\n",
    "\n",
    "\n",
    "# Check if it is correct\n",
    "print(f\"The accuracy of the extreme viral classifier is: {score_extreme}\\n\")\n",
    "\n",
    "number_extreme_tweets = len(all_tweets[all_tweets['extreme_viral_tweet'] == 1])\n",
    "\n",
    "print(f\"The number of extreme viral tweets is: {number_extreme_tweets}\")\n",
    "\n",
    "if number_extreme_tweets > 500:\n",
    "    print(f\"The number of extreme viral tweets is {number_extreme_tweets}, which is more than 500, and that's a lot to unpack 😅\\n\")\n",
    "else:\n",
    "    print(f\"The number of extreme viral tweets is {number_extreme_tweets}, which is less than 500, and that's not a lot to unpack 😅\")\n",
    "\n",
    "# Analyzing the features of the extreme viral tweets\n",
    "\n",
    "extreme_viral_tweets_list = all_tweets[all_tweets['extreme_viral_tweet'] == 1]\n",
    "\n",
    "# Let's see the first 5 tweets\n",
    "# print(extreme_viral_tweets_list.head())\n",
    "\n",
    "# Let's see the last 5 tweets\n",
    "# print(extreme_viral_tweets_list.tail())\n",
    "\n",
    "# Analyzing the features of the extreme viral tweets have in common\n",
    "word_count_extreme_viral_tweets = extreme_viral_tweets_list['num_words']\n",
    "friends_count_extreme_viral_tweets = extreme_viral_tweets_list['friends_count']\n",
    "followers_count_extreme_viral_tweets = extreme_viral_tweets_list['followers_count']\n",
    "count_with_links = len(extreme_viral_tweets_list[extreme_viral_tweets_list['num_links'] == 1])\n",
    "count_with_hashtags = len(extreme_viral_tweets_list[extreme_viral_tweets_list['num_hashtags'] == 1])\n",
    "\n",
    "print(f\"The average number of words in the extreme viral tweets is: {word_count_extreme_viral_tweets.mean()}\\n\")\n",
    "print(f\"The average number of friends in the extreme viral tweets is: {friends_count_extreme_viral_tweets.mean()}\\n\")\n",
    "print(f\"The average number of followers in the extreme viral tweets is: {followers_count_extreme_viral_tweets.mean()}\\n\")\n",
    "print(f\"The number of tweets with links in the extreme viral tweets is: {count_with_links}\\n\")\n",
    "print(f\"The number of tweets with hashtags in the extreme viral tweets is: {count_with_hashtags}\\n\")\n",
    "\n",
    "if count_with_links < 250:\n",
    "    print(f\"The number of tweets with links in the extreme viral tweets is {count_with_links}, which is less than 250, and is much less than the half of the total number of extreme viral tweets, which is {number_extreme_tweets / 2}, this means that the links maybe are hurting the performance of the tweets, because the number of tweets with links is lower than the half of the total number of extreme viral tweets\\n\")\n",
    "else:\n",
    "    print(f\"The number of tweets with links in the extreme viral tweets is {count_with_links}, which is more than 100, and that's a lot to unpack 😅\\n\")\n",
    "\n",
    "\n",
    "\n",
    "if count_with_hashtags < 50:\n",
    "    print(f\"The number of tweets with hashtags in the extreme viral tweets is {count_with_hashtags}, which is less than 50, and is much less than the half of the total number of extreme viral tweets, which is {number_extreme_tweets / 2}, this means that the hashtags maybe are hurting the performance of the tweets, because the number of tweets with hashtags is lower than the half of the total number of extreme viral tweets\\n\")\n",
    "else:\n",
    "    print(f\"The number of tweets with hashtags in the extreme viral tweets is {count_with_hashtags}, which is more than 50, and that's a lot to unpack 😅\\n\")\n",
    "\n",
    "\n",
    "\n",
    "\n",
    "\n",
    "\n",
    "\n",
    "\n",
    "\n",
    "\n",
    "\n",
    "\n"
   ]
  }
 ],
 "metadata": {
  "kernelspec": {
   "display_name": "codeacademy_env",
   "language": "python",
   "name": "python3"
  },
  "language_info": {
   "codemirror_mode": {
    "name": "ipython",
    "version": 3
   },
   "file_extension": ".py",
   "mimetype": "text/x-python",
   "name": "python",
   "nbconvert_exporter": "python",
   "pygments_lexer": "ipython3",
   "version": "3.11.7"
  }
 },
 "nbformat": 4,
 "nbformat_minor": 2
}
